{
 "cells": [
  {
   "cell_type": "markdown",
   "metadata": {},
   "source": [
    "# Importing Different Libraries"
   ]
  },
  {
   "cell_type": "code",
   "execution_count": 2,
   "metadata": {},
   "outputs": [
    {
     "name": "stderr",
     "output_type": "stream",
     "text": [
      "Using TensorFlow backend.\n"
     ]
    }
   ],
   "source": [
    "import os,cv2\n",
    "import numpy as np\n",
    "import matplotlib.pyplot as plt\n",
    "\n",
    "from sklearn.utils import shuffle\n",
    "from sklearn.model_selection import train_test_split\n",
    "\n",
    "from keras import backend as K\n",
    "K.set_image_dim_ordering('tf')\n",
    "\n",
    "from keras.utils import np_utils\n",
    "from keras.models import Sequential\n",
    "from keras.layers.core import Dense, Activation, Flatten, Dropout\n",
    "from keras.layers import MaxPooling2D, Conv2D\n",
    "from keras.optimizers import SGD,rmsprop,adam\n",
    "from keras.preprocessing.image import ImageDataGenerator\n"
   ]
  },
  {
   "cell_type": "markdown",
   "metadata": {},
   "source": [
    "# Preparing Images"
   ]
  },
  {
   "cell_type": "code",
   "execution_count": 3,
   "metadata": {},
   "outputs": [],
   "source": [
    "PATH = os.getcwd()\n",
    "dataPath = PATH + '/17flowers/'\n",
    "\n",
    "imgNameList = sorted(os.listdir(dataPath))"
   ]
  },
  {
   "cell_type": "markdown",
   "metadata": {},
   "source": [
    "# Import Dataset"
   ]
  },
  {
   "cell_type": "code",
   "execution_count": 4,
   "metadata": {},
   "outputs": [
    {
     "data": {
      "text/plain": [
       "(128, 128, 3)"
      ]
     },
     "execution_count": 4,
     "metadata": {},
     "output_type": "execute_result"
    }
   ],
   "source": [
    "imgDataList=[]\n",
    "for img in imgNameList:\n",
    "    inputImg = cv2.imread(dataPath+img)\n",
    "    #inputImgGray = cv2.cvtColor(inputImg,cv2.COLOR_BGR2GRAY)\n",
    "    inputImgResized = cv2.resize(inputImg,(128,128))\n",
    "    imgDataList.append(inputImgResized) \n",
    "inputImgResized.shape"
   ]
  },
  {
   "cell_type": "markdown",
   "metadata": {},
   "source": [
    "# COnverting the Image data into Numpy array"
   ]
  },
  {
   "cell_type": "code",
   "execution_count": 5,
   "metadata": {},
   "outputs": [
    {
     "name": "stdout",
     "output_type": "stream",
     "text": [
      "(1360, 128, 128, 3)\n"
     ]
    }
   ],
   "source": [
    "imgData = np.array(imgDataList)\n",
    "imgData = imgData.astype('float32')\n",
    "imgData /= 255\n",
    "print(imgData.shape)"
   ]
  },
  {
   "cell_type": "code",
   "execution_count": null,
   "metadata": {},
   "outputs": [],
   "source": []
  },
  {
   "cell_type": "markdown",
   "metadata": {},
   "source": [
    "# Define the number of classes"
   ]
  },
  {
   "cell_type": "code",
   "execution_count": 6,
   "metadata": {},
   "outputs": [],
   "source": [
    "Rows=128\n",
    "Cols=128\n",
    "channel=1\n",
    "epochs=20\n",
    "classes = 17\n",
    "batchSize=12"
   ]
  },
  {
   "cell_type": "code",
   "execution_count": null,
   "metadata": {},
   "outputs": [],
   "source": []
  },
  {
   "cell_type": "markdown",
   "metadata": {},
   "source": [
    "# Creating the Labels for images"
   ]
  },
  {
   "cell_type": "code",
   "execution_count": 7,
   "metadata": {},
   "outputs": [],
   "source": [
    "totalSamples = imgData.shape[0]\n",
    "labels = np.ones((totalSamples,),dtype='int64')"
   ]
  },
  {
   "cell_type": "code",
   "execution_count": 8,
   "metadata": {},
   "outputs": [],
   "source": [
    "for i in range(17):\n",
    "    labels[i*80:i*80+80]=i"
   ]
  },
  {
   "cell_type": "code",
   "execution_count": 9,
   "metadata": {},
   "outputs": [],
   "source": [
    "names = [\"daffodil\", \"snowdrop\", \"lilyvalley\", \"bluebell\", \"crocus\",\n",
    "\t\t\t   \"iris\", \"tigerlily\", \"tulip\", \"fritillary\", \"sunflower\", \n",
    "\t\t\t   \"daisy\", \"coltsfoot\", \"dandelion\", \"cowslip\", \"buttercup\",\n",
    "\t\t\t   \"windflower\", \"pansy\"]"
   ]
  },
  {
   "cell_type": "code",
   "execution_count": 10,
   "metadata": {},
   "outputs": [
    {
     "name": "stdout",
     "output_type": "stream",
     "text": [
      "(1360, 128, 128, 3)\n"
     ]
    },
    {
     "data": {
      "text/plain": [
       "(1360, 128, 128, 3)"
      ]
     },
     "execution_count": 10,
     "metadata": {},
     "output_type": "execute_result"
    }
   ],
   "source": [
    "if channel==1:\n",
    "\tif K.image_dim_ordering()=='th':\n",
    "\t\timg_data= np.expand_dims(imgData, axis=1) \n",
    "\t\tprint (imgData.shape)\n",
    "\telse:\n",
    "\t\timg_data= np.expand_dims(imgData, axis=4) \n",
    "\t\tprint (imgData.shape)\n",
    "\t\t\n",
    "else:\n",
    "\tif K.image_dim_ordering()=='th':\n",
    "\t\timg_data=np.rollaxis(imgData,3,1)\n",
    "\t\tprint (imgDdata.shape)\n",
    "\t\t\n",
    "imgData.shape"
   ]
  },
  {
   "cell_type": "code",
   "execution_count": 11,
   "metadata": {},
   "outputs": [],
   "source": [
    "Y = np_utils.to_categorical(labels, classes)"
   ]
  },
  {
   "cell_type": "code",
   "execution_count": 12,
   "metadata": {},
   "outputs": [],
   "source": [
    "x,y = shuffle(imgData,Y, random_state=2)"
   ]
  },
  {
   "cell_type": "markdown",
   "metadata": {},
   "source": [
    "# Split the dataset\n"
   ]
  },
  {
   "cell_type": "code",
   "execution_count": 13,
   "metadata": {},
   "outputs": [
    {
     "name": "stdout",
     "output_type": "stream",
     "text": [
      "1224 136\n"
     ]
    }
   ],
   "source": [
    "X_train, X_test, y_train, y_test = train_test_split(x, y, test_size=0.1, random_state=2)\n",
    "print(X_train.shape[0],X_test.shape[0])"
   ]
  },
  {
   "cell_type": "code",
   "execution_count": 14,
   "metadata": {},
   "outputs": [
    {
     "data": {
      "text/plain": [
       "(128, 128, 3)"
      ]
     },
     "execution_count": 14,
     "metadata": {},
     "output_type": "execute_result"
    }
   ],
   "source": [
    "input_shape=imgData[0].shape\n",
    "X_train.shape[1:]"
   ]
  },
  {
   "cell_type": "markdown",
   "metadata": {},
   "source": [
    "\n",
    "# Defining the model"
   ]
  },
  {
   "cell_type": "code",
   "execution_count": 15,
   "metadata": {},
   "outputs": [],
   "source": [
    "model = Sequential()\n",
    "\n",
    "model.add(Conv2D(32, (3, 3), padding='same',input_shape=X_train.shape[1:]))\n",
    "model.add(Activation('relu'))\n",
    "model.add(Conv2D(32, (3, 3)))\n",
    "model.add(Activation('relu'))\n",
    "model.add(MaxPooling2D(pool_size=(2, 2)))\n",
    "model.add(Dropout(0.2))\n",
    "\n",
    "model.add(Conv2D(64, (3, 3), padding='same'))\n",
    "model.add(Activation('relu'))\n",
    "model.add(Conv2D(64, (3, 3)))\n",
    "model.add(Activation('relu'))\n",
    "model.add(MaxPooling2D(pool_size=(2, 2)))\n",
    "model.add(Dropout(0.25))\n",
    "\n",
    "model.add(Flatten())\n",
    "model.add(Dense(512))\n",
    "model.add(Activation('relu'))\n",
    "model.add(Dropout(0.5))\n",
    "model.add(Dense(classes))\n",
    "model.add(Activation('softmax'))\n",
    "\n",
    "# initiate RMSprop optimizer\n",
    "opt =rmsprop(lr=0.001, decay=1e-5)\n",
    "opt2 = SGD(lr=0.01)\n",
    "# Let's train the model using RMSprop\n",
    "model.compile(loss='categorical_crossentropy',optimizer=opt,metrics=['accuracy'])\n"
   ]
  },
  {
   "cell_type": "code",
   "execution_count": 16,
   "metadata": {},
   "outputs": [
    {
     "name": "stdout",
     "output_type": "stream",
     "text": [
      "_________________________________________________________________\n",
      "Layer (type)                 Output Shape              Param #   \n",
      "=================================================================\n",
      "conv2d_1 (Conv2D)            (None, 128, 128, 32)      896       \n",
      "_________________________________________________________________\n",
      "activation_1 (Activation)    (None, 128, 128, 32)      0         \n",
      "_________________________________________________________________\n",
      "conv2d_2 (Conv2D)            (None, 126, 126, 32)      9248      \n",
      "_________________________________________________________________\n",
      "activation_2 (Activation)    (None, 126, 126, 32)      0         \n",
      "_________________________________________________________________\n",
      "max_pooling2d_1 (MaxPooling2 (None, 63, 63, 32)        0         \n",
      "_________________________________________________________________\n",
      "dropout_1 (Dropout)          (None, 63, 63, 32)        0         \n",
      "_________________________________________________________________\n",
      "conv2d_3 (Conv2D)            (None, 63, 63, 64)        18496     \n",
      "_________________________________________________________________\n",
      "activation_3 (Activation)    (None, 63, 63, 64)        0         \n",
      "_________________________________________________________________\n",
      "conv2d_4 (Conv2D)            (None, 61, 61, 64)        36928     \n",
      "_________________________________________________________________\n",
      "activation_4 (Activation)    (None, 61, 61, 64)        0         \n",
      "_________________________________________________________________\n",
      "max_pooling2d_2 (MaxPooling2 (None, 30, 30, 64)        0         \n",
      "_________________________________________________________________\n",
      "dropout_2 (Dropout)          (None, 30, 30, 64)        0         \n",
      "_________________________________________________________________\n",
      "flatten_1 (Flatten)          (None, 57600)             0         \n",
      "_________________________________________________________________\n",
      "dense_1 (Dense)              (None, 512)               29491712  \n",
      "_________________________________________________________________\n",
      "activation_5 (Activation)    (None, 512)               0         \n",
      "_________________________________________________________________\n",
      "dropout_3 (Dropout)          (None, 512)               0         \n",
      "_________________________________________________________________\n",
      "dense_2 (Dense)              (None, 17)                8721      \n",
      "_________________________________________________________________\n",
      "activation_6 (Activation)    (None, 17)                0         \n",
      "=================================================================\n",
      "Total params: 29,566,001\n",
      "Trainable params: 29,566,001\n",
      "Non-trainable params: 0\n",
      "_________________________________________________________________\n"
     ]
    }
   ],
   "source": [
    "model.summary()"
   ]
  },
  {
   "cell_type": "markdown",
   "metadata": {},
   "source": [
    "# Training with callbacks"
   ]
  },
  {
   "cell_type": "markdown",
   "metadata": {},
   "source": [
    "# With data augmentation"
   ]
  },
  {
   "cell_type": "code",
   "execution_count": null,
   "metadata": {},
   "outputs": [],
   "source": []
  },
  {
   "cell_type": "code",
   "execution_count": 17,
   "metadata": {},
   "outputs": [],
   "source": [
    "datagen = ImageDataGenerator(\n",
    "        featurewise_center=False,  # set input mean to 0 over the dataset\n",
    "        samplewise_center=False,  # set each sample mean to 0\n",
    "        featurewise_std_normalization=False,  # divide inputs by std of the dataset\n",
    "        samplewise_std_normalization=False,  # divide each input by its std\n",
    "        zca_whitening=False,  # apply ZCA whitening\n",
    "        rotation_range=9,  # randomly rotate images in the range (degrees, 0 to 180)\n",
    "        zoom_range = 0.1, # Randomly zoom image \n",
    "        width_shift_range=0.1,  # randomly shift images horizontally (fraction of total width)\n",
    "        height_shift_range=0.1,  # randomly shift images vertically (fraction of total height)\n",
    "        horizontal_flip=True,  # randomly flip images\n",
    "        vertical_flip=False)  # randomly flip images\n",
    "\n",
    "\n",
    "datagen.fit(X_train)"
   ]
  },
  {
   "cell_type": "code",
   "execution_count": 18,
   "metadata": {},
   "outputs": [],
   "source": [
    "# from keras import callbacks\n",
    "\n",
    "# filename='model_train_new.csv'\n",
    "# csv_log=callbacks.CSVLogger(filename, separator=',', append=False)\n",
    "\n",
    "# early_stopping=callbacks.EarlyStopping(monitor='acc', min_delta=0, patience=1, verbose=0, mode='max')\n",
    "\n",
    "# filepath=\"model-output-{epoch:02d}-{loss:.4f}-{acc:.4f}.hdf5\"\n",
    "\n",
    "# checkpoint = callbacks.ModelCheckpoint(filepath, monitor='acc', verbose=1, save_best_only=True, mode='max')\n",
    "\n",
    "# callbacks_list = [csv_log,early_stopping,checkpoint]"
   ]
  },
  {
   "cell_type": "code",
   "execution_count": 19,
   "metadata": {},
   "outputs": [
    {
     "name": "stdout",
     "output_type": "stream",
     "text": [
      "Epoch 1/20\n",
      "102/102 [==============================] - 153s 1s/step - loss: 2.6578 - acc: 0.1438 - val_loss: 2.0835 - val_acc: 0.2647\n",
      "Epoch 2/20\n",
      "102/102 [==============================] - 146s 1s/step - loss: 2.0933 - acc: 0.2949 - val_loss: 1.6335 - val_acc: 0.5000\n",
      "Epoch 3/20\n",
      "102/102 [==============================] - 126s 1s/step - loss: 1.8011 - acc: 0.4101 - val_loss: 1.3989 - val_acc: 0.5074\n",
      "Epoch 4/20\n",
      "102/102 [==============================] - 125s 1s/step - loss: 1.6197 - acc: 0.4730 - val_loss: 1.2568 - val_acc: 0.5809\n",
      "Epoch 5/20\n",
      "102/102 [==============================] - 124s 1s/step - loss: 1.4821 - acc: 0.5155 - val_loss: 1.1525 - val_acc: 0.5588\n",
      "Epoch 6/20\n",
      "102/102 [==============================] - 124s 1s/step - loss: 1.3839 - acc: 0.5335 - val_loss: 1.5745 - val_acc: 0.5221\n",
      "Epoch 7/20\n",
      "102/102 [==============================] - 134s 1s/step - loss: 1.3254 - acc: 0.5539 - val_loss: 1.5091 - val_acc: 0.5147\n",
      "Epoch 8/20\n",
      "102/102 [==============================] - 130s 1s/step - loss: 1.2892 - acc: 0.5825 - val_loss: 0.9692 - val_acc: 0.6397\n",
      "Epoch 9/20\n",
      "102/102 [==============================] - 125s 1s/step - loss: 1.2064 - acc: 0.6005 - val_loss: 0.9085 - val_acc: 0.6912\n",
      "Epoch 10/20\n",
      "102/102 [==============================] - 126s 1s/step - loss: 1.1946 - acc: 0.6078 - val_loss: 0.9607 - val_acc: 0.7059\n",
      "Epoch 11/20\n",
      "102/102 [==============================] - 146s 1s/step - loss: 1.1615 - acc: 0.6103 - val_loss: 0.8840 - val_acc: 0.7059\n",
      "Epoch 12/20\n",
      "102/102 [==============================] - 137s 1s/step - loss: 1.0707 - acc: 0.6438 - val_loss: 0.8879 - val_acc: 0.7059\n",
      "Epoch 13/20\n",
      "102/102 [==============================] - 136s 1s/step - loss: 1.0637 - acc: 0.6683 - val_loss: 0.7977 - val_acc: 0.7132\n",
      "Epoch 14/20\n",
      "102/102 [==============================] - 141s 1s/step - loss: 1.0029 - acc: 0.6699 - val_loss: 0.8111 - val_acc: 0.7059\n",
      "Epoch 15/20\n",
      "102/102 [==============================] - 134s 1s/step - loss: 1.0093 - acc: 0.6699 - val_loss: 0.7078 - val_acc: 0.7647\n",
      "Epoch 16/20\n",
      "102/102 [==============================] - 141s 1s/step - loss: 1.0075 - acc: 0.6740 - val_loss: 0.7266 - val_acc: 0.7279\n",
      "Epoch 17/20\n",
      "102/102 [==============================] - 144s 1s/step - loss: 0.9693 - acc: 0.7002 - val_loss: 0.7761 - val_acc: 0.7279\n",
      "Epoch 18/20\n",
      "102/102 [==============================] - 131s 1s/step - loss: 0.9270 - acc: 0.6920 - val_loss: 0.6983 - val_acc: 0.7868\n",
      "Epoch 19/20\n",
      "102/102 [==============================] - 136s 1s/step - loss: 0.9236 - acc: 0.7124 - val_loss: 0.8007 - val_acc: 0.6985\n",
      "Epoch 20/20\n",
      "102/102 [==============================] - 131s 1s/step - loss: 0.8428 - acc: 0.7533 - val_loss: 0.6051 - val_acc: 0.8088\n"
     ]
    }
   ],
   "source": [
    "hist = model.fit_generator(datagen.flow(X_train,y_train, batch_size=batchSize),\n",
    "                 epochs=epochs, \n",
    "                 verbose=1, \n",
    "                 validation_data=(X_test, y_test),\n",
    "                steps_per_epoch=X_train.shape[0] // batchSize)\n"
   ]
  },
  {
   "cell_type": "markdown",
   "metadata": {},
   "source": [
    "# visualizing the losss and accuracy"
   ]
  },
  {
   "cell_type": "code",
   "execution_count": 24,
   "metadata": {},
   "outputs": [],
   "source": [
    "train_loss=hist.history['loss']\n",
    "val_loss=hist.history['val_loss']\n",
    "train_acc=hist.history['acc']\n",
    "val_acc=hist.history['val_acc']\n",
    "xc=range(20)"
   ]
  },
  {
   "cell_type": "code",
   "execution_count": 25,
   "metadata": {},
   "outputs": [
    {
     "data": {
      "image/png": "[encoded data removed]",
      "text/plain": [
       "<Figure size 504x360 with 1 Axes>"
      ]
     },
     "metadata": {},
     "output_type": "display_data"
    }
   ],
   "source": [
    "plt.figure(1,figsize=(7,5))\n",
    "plt.plot(xc,train_loss)\n",
    "plt.plot(xc,val_loss)\n",
    "plt.xlabel('num of Epochs')\n",
    "plt.ylabel('loss')\n",
    "plt.title('train_loss vs val_loss')\n",
    "plt.grid(True)\n",
    "plt.legend(['train','val'])\n",
    "#print plt.style.available # use bmh, classic,ggplot for big pictures\n",
    "plt.style.use(['classic'])"
   ]
  },
  {
   "cell_type": "code",
   "execution_count": 26,
   "metadata": {},
   "outputs": [
    {
     "data": {
      "image/png": "[encoded data removed]",
      "text/plain": [
       "<Figure size 560x400 with 1 Axes>"
      ]
     },
     "metadata": {},
     "output_type": "display_data"
    }
   ],
   "source": [
    "plt.figure(2,figsize=(7,5))\n",
    "plt.plot(xc,train_acc)\n",
    "plt.plot(xc,val_acc)\n",
    "plt.xlabel('num of Epochs')\n",
    "plt.ylabel('accuracy')\n",
    "plt.title('train_acc vs val_acc')\n",
    "plt.grid(True)\n",
    "plt.legend(['train','val'],loc=4)\n",
    "#print plt.style.available # use bmh, classic,ggplot for big pictures\n",
    "plt.style.use(['classic'])\n"
   ]
  },
  {
   "cell_type": "code",
   "execution_count": 27,
   "metadata": {},
   "outputs": [
    {
     "name": "stdout",
     "output_type": "stream",
     "text": [
      "136/136 [==============================] - 3s 21ms/step\n"
     ]
    }
   ],
   "source": [
    "score = model.evaluate(X_test, y_test,)\n"
   ]
  },
  {
   "cell_type": "code",
   "execution_count": 28,
   "metadata": {},
   "outputs": [
    {
     "name": "stdout",
     "output_type": "stream",
     "text": [
      "Test Loss: 0.6050804292454439\n",
      "Test accuracy: 0.8088235294117647\n"
     ]
    }
   ],
   "source": [
    "print('Test Loss:', score[0])\n",
    "print('Test accuracy:', score[1])"
   ]
  },
  {
   "cell_type": "markdown",
   "metadata": {},
   "source": [
    "# Visualizing the intermediate layer\n"
   ]
  },
  {
   "cell_type": "code",
   "execution_count": 29,
   "metadata": {},
   "outputs": [],
   "source": [
    "# def get_featuremaps(model, layer_idx, X_batch):\n",
    "# \tget_activations = K.function([model.layers[0].input, K.learning_phase()],[model.layers[layer_idx].output,])\n",
    "# \tactivations = get_activations([X_batch,0])\n",
    "# \treturn activations\n"
   ]
  },
  {
   "cell_type": "code",
   "execution_count": 30,
   "metadata": {},
   "outputs": [],
   "source": [
    "# layer_num=2\n",
    "# filter_num=0\n",
    "\n",
    "# activations = get_featuremaps(model, int(layer_num),test_image)"
   ]
  },
  {
   "cell_type": "code",
   "execution_count": 31,
   "metadata": {},
   "outputs": [],
   "source": [
    "# print (np.shape(activations))\n",
    "# feature_maps = activations[0][0]      \n",
    "# print (np.shape(feature_maps))\n",
    "\n",
    "# if K.image_dim_ordering()=='th':\n",
    "# \tfeature_maps=np.rollaxis((np.rollaxis(feature_maps,2,0)),2,0)\n",
    "# print (feature_maps.shape)"
   ]
  },
  {
   "cell_type": "code",
   "execution_count": 32,
   "metadata": {},
   "outputs": [],
   "source": [
    "# fig=plt.figure(figsize=(16,16))\n",
    "# plt.imshow(feature_maps[:,:,filter_num],cmap='gray')\n",
    "# plt.savefig(\"featuremaps-layer-{}\".format(layer_num) + \"-filternum-{}\".format(filter_num)+'.jpg')\n"
   ]
  },
  {
   "cell_type": "code",
   "execution_count": 33,
   "metadata": {},
   "outputs": [],
   "source": [
    "# num_of_featuremaps=feature_maps.shape[2]\n",
    "# fig=plt.figure(figsize=(16,16))\t\n",
    "# plt.title(\"featuremaps-layer-{}\".format(layer_num))\n",
    "# subplot_num=int(np.ceil(np.sqrt(num_of_featuremaps)))\n",
    "# for i in range(int(num_of_featuremaps)):\n",
    "# \tax = fig.add_subplot(subplot_num, subplot_num, i+1)\n",
    "# \t#ax.imshow(output_image[0,:,:,i],interpolation='nearest' ) #to see the first filter\n",
    "# \tax.imshow(feature_maps[:,:,i],cmap='gray')\n",
    "# \tplt.xticks([])\n",
    "# \tplt.yticks([])\n",
    "# \tplt.tight_layout()\n",
    "# plt.show()\n",
    "# fig.savefig(\"featuremaps-layer-{}\".format(layer_num) + '.jpg')"
   ]
  },
  {
   "cell_type": "markdown",
   "metadata": {},
   "source": [
    "# Printing the confusion matrix\n"
   ]
  },
  {
   "cell_type": "code",
   "execution_count": 34,
   "metadata": {},
   "outputs": [],
   "source": [
    "from sklearn.metrics import classification_report,confusion_matrix\n",
    "import itertools\n"
   ]
  },
  {
   "cell_type": "code",
   "execution_count": 35,
   "metadata": {},
   "outputs": [
    {
     "name": "stdout",
     "output_type": "stream",
     "text": [
      "[[2.5069227e-02 9.5464871e-04 6.0524568e-03 ... 1.3974120e-03\n",
      "  1.3699125e-04 1.0184030e-05]\n",
      " [3.1765863e-05 1.0199777e-03 3.3602372e-04 ... 2.4621042e-06\n",
      "  8.4732008e-01 1.1030025e-02]\n",
      " [1.3803500e-01 1.1588941e-05 3.2034470e-06 ... 7.9233060e-03\n",
      "  8.8248216e-06 6.3349456e-05]\n",
      " ...\n",
      " [1.1836689e-04 9.1994977e-01 2.7930059e-02 ... 4.7175527e-06\n",
      "  3.9943878e-02 1.1082275e-04]\n",
      " [6.9329360e-08 1.4522152e-04 1.9067020e-05 ... 2.1552646e-09\n",
      "  9.5330119e-01 1.9397163e-04]\n",
      " [8.9061245e-08 3.7846737e-06 4.0152167e-06 ... 1.2007925e-08\n",
      "  4.1555095e-06 1.4494040e-02]]\n",
      "[13 15 11 15  1 10  1  6 10  4 15  3  4 10  2 16 14 15 12 13 15  0 15  4\n",
      " 11  3  8  6  0  6  5 10  1  0 16 15 14 10  9 14 10  8  0  4 13 15  6 13\n",
      "  8  9  0 14 14 15 10 12  2  1  1  5  8  2 11 12  3 11  9 13  4  0 11  0\n",
      "  4  1 14 14  9  4  3 10  6  4  4  5 16  4  9 11 12 11  0 10 11 14 13  4\n",
      " 10  5 12 11 10  4  6 11  2 13 11 10 16 16 11  0  6  9 12 12 14  1 16  2\n",
      "  3 15  2 11  1 15 10 12  7  9  6  8  7  1 15  3]\n"
     ]
    }
   ],
   "source": [
    "Y_pred = model.predict(X_test)\n",
    "print(Y_pred)\n",
    "y_pred = np.argmax(Y_pred, axis=1)\n",
    "print(y_pred)"
   ]
  },
  {
   "cell_type": "code",
   "execution_count": 36,
   "metadata": {},
   "outputs": [
    {
     "name": "stdout",
     "output_type": "stream",
     "text": [
      "             precision    recall  f1-score   support\n",
      "\n",
      "   daffodil       0.78      0.54      0.64        13\n",
      "   snowdrop       0.67      0.86      0.75         7\n",
      " lilyvalley       0.67      0.67      0.67         6\n",
      "   bluebell       1.00      1.00      1.00         6\n",
      "     crocus       0.83      0.91      0.87        11\n",
      "       iris       1.00      1.00      1.00         4\n",
      "  tigerlily       1.00      1.00      1.00         8\n",
      "      tulip       0.50      0.11      0.18         9\n",
      " fritillary       1.00      0.83      0.91         6\n",
      "  sunflower       1.00      0.88      0.93         8\n",
      "      daisy       1.00      0.87      0.93        15\n",
      "  coltsfoot       0.38      0.83      0.53         6\n",
      "  dandelion       0.75      0.75      0.75         8\n",
      "    cowslip       1.00      0.88      0.93         8\n",
      "  buttercup       0.44      1.00      0.62         4\n",
      " windflower       0.92      1.00      0.96        11\n",
      "      pansy       1.00      1.00      1.00         6\n",
      "\n",
      "avg / total       0.84      0.81      0.80       136\n",
      "\n"
     ]
    }
   ],
   "source": [
    "print(classification_report(np.argmax(y_test,axis=1), y_pred,target_names=names))\n"
   ]
  },
  {
   "cell_type": "code",
   "execution_count": 37,
   "metadata": {},
   "outputs": [
    {
     "name": "stdout",
     "output_type": "stream",
     "text": [
      "[[ 7  0  0  0  0  0  0  0  0  0  0  3  0  0  3  0  0]\n",
      " [ 0  6  0  0  1  0  0  0  0  0  0  0  0  0  0  0  0]\n",
      " [ 0  1  4  0  0  0  0  0  0  0  0  0  0  0  0  1  0]\n",
      " [ 0  0  0  6  0  0  0  0  0  0  0  0  0  0  0  0  0]\n",
      " [ 0  1  0  0 10  0  0  0  0  0  0  0  0  0  0  0  0]\n",
      " [ 0  0  0  0  0  4  0  0  0  0  0  0  0  0  0  0  0]\n",
      " [ 0  0  0  0  0  0  8  0  0  0  0  0  0  0  0  0  0]\n",
      " [ 2  1  0  0  0  0  0  1  0  0  0  4  0  0  1  0  0]\n",
      " [ 0  0  1  0  0  0  0  0  5  0  0  0  0  0  0  0  0]\n",
      " [ 0  0  0  0  0  0  0  0  0  7  0  0  1  0  0  0  0]\n",
      " [ 0  0  1  0  1  0  0  0  0  0 13  0  0  0  0  0  0]\n",
      " [ 0  0  0  0  0  0  0  0  0  0  0  5  1  0  0  0  0]\n",
      " [ 0  0  0  0  0  0  0  1  0  0  0  1  6  0  0  0  0]\n",
      " [ 0  0  0  0  0  0  0  0  0  0  0  0  0  7  1  0  0]\n",
      " [ 0  0  0  0  0  0  0  0  0  0  0  0  0  0  4  0  0]\n",
      " [ 0  0  0  0  0  0  0  0  0  0  0  0  0  0  0 11  0]\n",
      " [ 0  0  0  0  0  0  0  0  0  0  0  0  0  0  0  0  6]]\n"
     ]
    }
   ],
   "source": [
    "print(confusion_matrix(np.argmax(y_test,axis=1), y_pred))\n"
   ]
  },
  {
   "cell_type": "markdown",
   "metadata": {},
   "source": [
    "# Plotting the confusion matrix\n"
   ]
  },
  {
   "cell_type": "code",
   "execution_count": 38,
   "metadata": {},
   "outputs": [],
   "source": [
    "def plot_confusion_matrix(cm, classes,\n",
    "                          normalize=False,\n",
    "                          title='Confusion matrix',\n",
    "                          cmap=plt.cm.Blues):\n",
    "    \"\"\"\n",
    "    This function prints and plots the confusion matrix.\n",
    "    Normalization can be applied by setting `normalize=True`.\n",
    "    \"\"\"\n",
    "    plt.imshow(cm, interpolation='nearest', cmap=cmap)\n",
    "    plt.title(title)\n",
    "    plt.colorbar()\n",
    "    tick_marks = np.arange(len(classes))\n",
    "    plt.xticks(tick_marks, classes, rotation=45)\n",
    "    plt.yticks(tick_marks, classes)\n",
    "\n",
    "    if normalize:\n",
    "        cm = cm.astype('float') / cm.sum(axis=1)[:, np.newaxis]\n",
    "        print(\"Normalized confusion matrix\")\n",
    "    else:\n",
    "        print('Confusion matrix, without normalization')\n",
    "\n",
    "    print(cm)\n",
    "\n",
    "    thresh = cm.max() / 2.\n",
    "    for i, j in itertools.product(range(cm.shape[0]), range(cm.shape[1])):\n",
    "        plt.text(j, i, cm[i, j],\n",
    "                 horizontalalignment=\"center\",\n",
    "                 color=\"white\" if cm[i, j] > thresh else \"black\")\n",
    "\n",
    "    plt.tight_layout()\n",
    "    plt.ylabel('True label')\n",
    "    plt.xlabel('Predicted label')"
   ]
  },
  {
   "cell_type": "markdown",
   "metadata": {},
   "source": [
    "# Compute confusion matrix\n"
   ]
  },
  {
   "cell_type": "code",
   "execution_count": 40,
   "metadata": {},
   "outputs": [
    {
     "name": "stdout",
     "output_type": "stream",
     "text": [
      "Confusion matrix, without normalization\n",
      "[[ 7  0  0  0  0  0  0  0  0  0  0  3  0  0  3  0  0]\n",
      " [ 0  6  0  0  1  0  0  0  0  0  0  0  0  0  0  0  0]\n",
      " [ 0  1  4  0  0  0  0  0  0  0  0  0  0  0  0  1  0]\n",
      " [ 0  0  0  6  0  0  0  0  0  0  0  0  0  0  0  0  0]\n",
      " [ 0  1  0  0 10  0  0  0  0  0  0  0  0  0  0  0  0]\n",
      " [ 0  0  0  0  0  4  0  0  0  0  0  0  0  0  0  0  0]\n",
      " [ 0  0  0  0  0  0  8  0  0  0  0  0  0  0  0  0  0]\n",
      " [ 2  1  0  0  0  0  0  1  0  0  0  4  0  0  1  0  0]\n",
      " [ 0  0  1  0  0  0  0  0  5  0  0  0  0  0  0  0  0]\n",
      " [ 0  0  0  0  0  0  0  0  0  7  0  0  1  0  0  0  0]\n",
      " [ 0  0  1  0  1  0  0  0  0  0 13  0  0  0  0  0  0]\n",
      " [ 0  0  0  0  0  0  0  0  0  0  0  5  1  0  0  0  0]\n",
      " [ 0  0  0  0  0  0  0  1  0  0  0  1  6  0  0  0  0]\n",
      " [ 0  0  0  0  0  0  0  0  0  0  0  0  0  7  1  0  0]\n",
      " [ 0  0  0  0  0  0  0  0  0  0  0  0  0  0  4  0  0]\n",
      " [ 0  0  0  0  0  0  0  0  0  0  0  0  0  0  0 11  0]\n",
      " [ 0  0  0  0  0  0  0  0  0  0  0  0  0  0  0  0  6]]\n"
     ]
    },
    {
     "data": {
      "image/png": "[encoded data removed]",
      "text/plain": [
       "<Figure size 640x480 with 2 Axes>"
      ]
     },
     "metadata": {},
     "output_type": "display_data"
    }
   ],
   "source": [
    "cnf_matrix = (confusion_matrix(np.argmax(y_test,axis=1), y_pred))\n",
    "\n",
    "np.set_printoptions(precision=2)\n",
    "\n",
    "plt.figure()\n",
    "\n",
    "plot_confusion_matrix(cnf_matrix, classes=names,\n",
    "                      title='Confusion matrix')"
   ]
  },
  {
   "cell_type": "code",
   "execution_count": 41,
   "metadata": {},
   "outputs": [],
   "source": [
    "plt.show()\n"
   ]
  },
  {
   "cell_type": "markdown",
   "metadata": {},
   "source": [
    "# saving the model"
   ]
  },
  {
   "cell_type": "code",
   "execution_count": 42,
   "metadata": {},
   "outputs": [],
   "source": [
    "save_dir = os.path.join(os.getcwd(), 'saved_models')\n",
    "model_name = 'keras_flower17_trained_model.h5'"
   ]
  },
  {
   "cell_type": "code",
   "execution_count": 43,
   "metadata": {},
   "outputs": [
    {
     "name": "stdout",
     "output_type": "stream",
     "text": [
      "Saved trained model at /home/archie/work/flowers/17flower/saved_models/keras_flower17_trained_model.h5 \n"
     ]
    }
   ],
   "source": [
    "if not os.path.isdir(save_dir):\n",
    "    os.makedirs(save_dir)\n",
    "model_path = os.path.join(save_dir, model_name)\n",
    "model.save(model_path)\n",
    "print('Saved trained model at %s ' % model_path)"
   ]
  },
  {
   "cell_type": "code",
   "execution_count": null,
   "metadata": {},
   "outputs": [],
   "source": []
  }
 ],
 "metadata": {
  "kernelspec": {
   "display_name": "Python 3",
   "language": "python",
   "name": "python3"
  },
  "language_info": {
   "codemirror_mode": {
    "name": "ipython",
    "version": 3
   },
   "file_extension": ".py",
   "mimetype": "text/x-python",
   "name": "python",
   "nbconvert_exporter": "python",
   "pygments_lexer": "ipython3",
   "version": "3.6.5"
  }
 },
 "nbformat": 4,
 "nbformat_minor": 2
}
